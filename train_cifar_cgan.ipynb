{
 "cells": [
  {
   "cell_type": "code",
   "execution_count": 3,
   "id": "416a6bff-cbc7-416c-bab1-4cb7751344a5",
   "metadata": {
    "scrolled": true
   },
   "outputs": [],
   "source": [
    "# Install dependencies if not installed\n",
    "# !pip install torch torchvision matplotlib\n",
    "\n",
    "import torch\n",
    "import torch.nn as nn\n",
    "import torch.optim as optim\n",
    "import os\n",
    "from torchvision import datasets, transforms\n",
    "from torch.utils.data import DataLoader\n",
    "\n",
    "# Create a folder for generated samples\n",
    "os.makedirs(\"generated_samples\", exist_ok=True)\n",
    "\n",
    "# Device configuration\n",
    "device = torch.device(\"cuda\" if torch.cuda.is_available() else \"cpu\")"
   ]
  },
  {
   "cell_type": "code",
   "execution_count": 4,
   "id": "26c4a9c5-87ab-4e53-8357-a4fa04136e8d",
   "metadata": {},
   "outputs": [],
   "source": [
    "# Better CIFAR-10 Generator (updated)\n",
    "class Generator(nn.Module):\n",
    "    def __init__(self, noise_dim=100, num_classes=10):\n",
    "        super(Generator, self).__init__()\n",
    "        self.label_emb = nn.Embedding(num_classes, num_classes)\n",
    "\n",
    "        self.init_size = 8  # Initial size before upsampling\n",
    "        self.l1 = nn.Sequential(nn.Linear(noise_dim + num_classes, 128 * self.init_size ** 2))\n",
    "\n",
    "        self.conv_blocks = nn.Sequential(\n",
    "            nn.BatchNorm2d(128),\n",
    "            nn.Upsample(scale_factor=2),\n",
    "            nn.Conv2d(128, 128, 3, stride=1, padding=1),\n",
    "            nn.BatchNorm2d(128, 0.8),\n",
    "            nn.ReLU(inplace=True),\n",
    "\n",
    "            nn.Upsample(scale_factor=2),\n",
    "            nn.Conv2d(128, 64, 3, stride=1, padding=1),\n",
    "            nn.BatchNorm2d(64, 0.8),\n",
    "            nn.ReLU(inplace=True),\n",
    "\n",
    "            nn.Conv2d(64, 3, 3, stride=1, padding=1),\n",
    "            nn.Tanh()\n",
    "        )\n",
    "\n",
    "    def forward(self, noise, labels):\n",
    "        labels = self.label_emb(labels)\n",
    "        gen_input = torch.cat((noise, labels), -1)\n",
    "        out = self.l1(gen_input)\n",
    "        out = out.view(out.size(0), 128, self.init_size, self.init_size)\n",
    "        img = self.conv_blocks(out)\n",
    "        return img"
   ]
  },
  {
   "cell_type": "code",
   "execution_count": 5,
   "id": "e9c4d45d-6292-40ec-b7aa-dcc587e5369c",
   "metadata": {},
   "outputs": [],
   "source": [
    "# Discriminator remains the same\n",
    "class Discriminator(nn.Module):\n",
    "    def __init__(self, num_classes=10):\n",
    "        super(Discriminator, self).__init__()\n",
    "        self.label_emb = nn.Embedding(num_classes, num_classes)\n",
    "        \n",
    "        self.model = nn.Sequential(\n",
    "            nn.Linear(3*32*32 + num_classes, 1024),\n",
    "            nn.LeakyReLU(0.2),\n",
    "            nn.Linear(1024, 512),\n",
    "            nn.LeakyReLU(0.2),\n",
    "            nn.Linear(512, 1),\n",
    "            nn.Sigmoid()\n",
    "        )\n",
    "        \n",
    "    def forward(self, img, labels):\n",
    "        img_flat = img.view(img.size(0), -1)\n",
    "        labels = self.label_emb(labels)\n",
    "        input = torch.cat((img_flat, labels), -1)\n",
    "        return self.model(input)"
   ]
  },
  {
   "cell_type": "code",
   "execution_count": 6,
   "id": "4e122383-5b40-4148-9f8f-e6993cb14abf",
   "metadata": {},
   "outputs": [
    {
     "name": "stdout",
     "output_type": "stream",
     "text": [
      "Files already downloaded and verified\n",
      "Epoch [1/50] | D Loss: 0.6593 | G Loss: 1.1157\n"
     ]
    },
    {
     "ename": "NameError",
     "evalue": "name 'fixed_noise' is not defined",
     "output_type": "error",
     "traceback": [
      "\u001b[1;31m---------------------------------------------------------------------------\u001b[0m",
      "\u001b[1;31mNameError\u001b[0m                                 Traceback (most recent call last)",
      "Cell \u001b[1;32mIn[6], line 81\u001b[0m\n\u001b[0;32m     77\u001b[0m \u001b[38;5;66;03m# --------------------\u001b[39;00m\n\u001b[0;32m     78\u001b[0m \u001b[38;5;66;03m# Save generated images after every epoch\u001b[39;00m\n\u001b[0;32m     79\u001b[0m \u001b[38;5;66;03m# --------------------\u001b[39;00m\n\u001b[0;32m     80\u001b[0m \u001b[38;5;28;01mwith\u001b[39;00m torch\u001b[38;5;241m.\u001b[39mno_grad():\n\u001b[1;32m---> 81\u001b[0m     generated_imgs \u001b[38;5;241m=\u001b[39m generator(\u001b[43mfixed_noise\u001b[49m, fixed_labels)\n\u001b[0;32m     82\u001b[0m     generated_imgs \u001b[38;5;241m=\u001b[39m (generated_imgs \u001b[38;5;241m+\u001b[39m \u001b[38;5;241m1\u001b[39m) \u001b[38;5;241m/\u001b[39m \u001b[38;5;241m2.0\u001b[39m  \u001b[38;5;66;03m# Denormalize to [0,1]\u001b[39;00m\n\u001b[0;32m     83\u001b[0m     save_image(generated_imgs, \u001b[38;5;124mf\u001b[39m\u001b[38;5;124m\"\u001b[39m\u001b[38;5;124mgenerated_samples/epoch_\u001b[39m\u001b[38;5;132;01m{\u001b[39;00mepoch\u001b[38;5;241m+\u001b[39m\u001b[38;5;241m1\u001b[39m\u001b[38;5;132;01m:\u001b[39;00m\u001b[38;5;124m03d\u001b[39m\u001b[38;5;132;01m}\u001b[39;00m\u001b[38;5;124m.png\u001b[39m\u001b[38;5;124m\"\u001b[39m, nrow\u001b[38;5;241m=\u001b[39m\u001b[38;5;241m5\u001b[39m)\n",
      "\u001b[1;31mNameError\u001b[0m: name 'fixed_noise' is not defined"
     ]
    }
   ],
   "source": [
    "# Hyperparameters\n",
    "batch_size = 64\n",
    "lr = 0.0002\n",
    "epochs = 50\n",
    "noise_dim = 100\n",
    "num_classes = 10\n",
    "\n",
    "# CIFAR-10 Classes\n",
    "cifar_classes = ['airplane', 'automobile', 'bird', 'cat', 'deer', 'dog', 'frog', 'horse', 'ship', 'truck']\n",
    "\n",
    "# Data\n",
    "transform = transforms.Compose([\n",
    "    transforms.ToTensor(),\n",
    "    transforms.Normalize([0.5], [0.5])\n",
    "])\n",
    "\n",
    "dataset = datasets.CIFAR10(root='./data', train=True, transform=transform, download=True)\n",
    "loader = DataLoader(dataset, batch_size=batch_size, shuffle=True)\n",
    "\n",
    "# Models (assuming you have Generator and Discriminator classes ready)\n",
    "generator = Generator(noise_dim, num_classes).to(device)\n",
    "discriminator = Discriminator(num_classes).to(device)\n",
    "\n",
    "# Optimizers\n",
    "optim_G = optim.Adam(generator.parameters(), lr=lr, betas=(0.5, 0.999))\n",
    "optim_D = optim.Adam(discriminator.parameters(), lr=lr, betas=(0.5, 0.999))\n",
    "\n",
    "# Loss\n",
    "adversarial_loss = nn.BCELoss()\n",
    "\n",
    "# Training Loop\n",
    "for epoch in range(epochs):\n",
    "    for imgs, labels in loader:\n",
    "        imgs, labels = imgs.to(device), labels.to(device)\n",
    "        \n",
    "        batch_size_curr = imgs.size(0)\n",
    "\n",
    "        # --------------------\n",
    "        # Train Discriminator\n",
    "        # --------------------\n",
    "        optim_D.zero_grad()\n",
    "\n",
    "        # Real images\n",
    "        real_validity = discriminator(imgs, labels)\n",
    "        real_labels = torch.empty_like(real_validity).uniform_(0.8, 1.0)  # Label smoothing\n",
    "        real_loss = adversarial_loss(real_validity, real_labels)\n",
    "\n",
    "        # Fake images\n",
    "        noise = torch.randn(batch_size_curr, noise_dim, device=device)\n",
    "        gen_labels = torch.randint(0, num_classes, (batch_size_curr,), device=device)\n",
    "        fake_imgs = generator(noise, gen_labels)\n",
    "\n",
    "        fake_validity = discriminator(fake_imgs.detach(), gen_labels)\n",
    "        fake_labels = torch.empty_like(fake_validity).uniform_(0.0, 0.2)  # Label smoothing\n",
    "        fake_loss = adversarial_loss(fake_validity, fake_labels)\n",
    "\n",
    "        # Total Discriminator loss\n",
    "        d_loss = (real_loss + fake_loss) / 2\n",
    "        d_loss.backward()\n",
    "        optim_D.step()\n",
    "\n",
    "        # --------------------\n",
    "        # Train Generator\n",
    "        # --------------------\n",
    "        optim_G.zero_grad()\n",
    "\n",
    "        gen_validity = discriminator(fake_imgs, gen_labels)\n",
    "        valid_labels = torch.ones_like(gen_validity)  # Generator wants D to think it's real\n",
    "        g_loss = adversarial_loss(gen_validity, valid_labels)\n",
    "\n",
    "        g_loss.backward()\n",
    "        optim_G.step()\n",
    "\n",
    "    print(f\"Epoch [{epoch+1}/{epochs}] | D Loss: {d_loss.item():.4f} | G Loss: {g_loss.item():.4f}\")\n",
    "\n",
    "\n",
    "    # --------------------\n",
    "    # Save generated images after every epoch\n",
    "    # --------------------\n",
    "    with torch.no_grad():\n",
    "        generated_imgs = generator(fixed_noise, fixed_labels)\n",
    "        generated_imgs = (generated_imgs + 1) / 2.0  # Denormalize to [0,1]\n",
    "        save_image(generated_imgs, f\"generated_samples/epoch_{epoch+1:03d}.png\", nrow=5)\n"
   ]
  },
  {
   "cell_type": "code",
   "execution_count": 6,
   "id": "40a8201b-aaf3-4056-a955-f1baeb4f5cbf",
   "metadata": {},
   "outputs": [
    {
     "name": "stdout",
     "output_type": "stream",
     "text": [
      "Saved Conditional CIFAR-10 Generator!\n"
     ]
    }
   ],
   "source": [
    "torch.save(generator.state_dict(), \"cifar_cgan_generator.pth\")\n",
    "print(\"Saved Conditional CIFAR-10 Generator!\")"
   ]
  },
  {
   "cell_type": "code",
   "execution_count": null,
   "id": "53ac831a-19a5-4455-89b3-0e907f45f142",
   "metadata": {},
   "outputs": [],
   "source": []
  }
 ],
 "metadata": {
  "kernelspec": {
   "display_name": "Python 3 (ipykernel)",
   "language": "python",
   "name": "python3"
  },
  "language_info": {
   "codemirror_mode": {
    "name": "ipython",
    "version": 3
   },
   "file_extension": ".py",
   "mimetype": "text/x-python",
   "name": "python",
   "nbconvert_exporter": "python",
   "pygments_lexer": "ipython3",
   "version": "3.12.6"
  }
 },
 "nbformat": 4,
 "nbformat_minor": 5
}
