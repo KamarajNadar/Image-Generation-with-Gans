{
 "cells": [
  {
   "cell_type": "code",
   "execution_count": 1,
   "id": "43a4280e-337e-4ba2-a5e5-775355ff9ad6",
   "metadata": {},
   "outputs": [],
   "source": [
    "# Install dependencies\n",
    "#!pip install torch torchvision matplotlib\n",
    "\n",
    "import torch\n",
    "import torch.nn as nn\n",
    "import torch.optim as optim\n",
    "from torchvision import datasets, transforms\n",
    "from torch.utils.data import DataLoader\n",
    "\n",
    "device = torch.device(\"cuda\" if torch.cuda.is_available() else \"cpu\")\n"
   ]
  },
  {
   "cell_type": "code",
   "execution_count": 2,
   "id": "8b28e528-731f-44bb-a77d-f4001eb60b4f",
   "metadata": {},
   "outputs": [],
   "source": [
    "# Define Generator\n",
    "class Generator(nn.Module):\n",
    "    def __init__(self, noise_dim=100, num_classes=10):\n",
    "        super(Generator, self).__init__()\n",
    "        self.label_emb = nn.Embedding(num_classes, num_classes)\n",
    "        self.model = nn.Sequential(\n",
    "            nn.Linear(noise_dim + num_classes, 256),\n",
    "            nn.ReLU(),\n",
    "            nn.Linear(256, 512),\n",
    "            nn.ReLU(),\n",
    "            nn.Linear(512, 28*28),\n",
    "            nn.Tanh()\n",
    "        )\n",
    "        \n",
    "    def forward(self, noise, labels):\n",
    "        labels = self.label_emb(labels)\n",
    "        input = torch.cat((noise, labels), -1)\n",
    "        return self.model(input).view(-1, 1, 28, 28)\n"
   ]
  },
  {
   "cell_type": "code",
   "execution_count": 3,
   "id": "cd428089-2aa6-4fe5-b265-cfb543046a60",
   "metadata": {},
   "outputs": [],
   "source": [
    "# Define Discriminator\n",
    "class Discriminator(nn.Module):\n",
    "    def __init__(self, num_classes=10):\n",
    "        super(Discriminator, self).__init__()\n",
    "        self.label_emb = nn.Embedding(num_classes, num_classes)\n",
    "        self.model = nn.Sequential(\n",
    "            nn.Linear(28*28 + num_classes, 512),\n",
    "            nn.LeakyReLU(0.2),\n",
    "            nn.Linear(512, 256),\n",
    "            nn.LeakyReLU(0.2),\n",
    "            nn.Linear(256, 1),\n",
    "            nn.Sigmoid()\n",
    "        )\n",
    "        \n",
    "    def forward(self, img, labels):\n",
    "        img_flat = img.view(img.size(0), -1)\n",
    "        labels = self.label_emb(labels)\n",
    "        input = torch.cat((img_flat, labels), -1)\n",
    "        return self.model(input)"
   ]
  },
  {
   "cell_type": "code",
   "execution_count": 4,
   "id": "b4a58aa6-444b-49fe-85e8-149707d0419f",
   "metadata": {},
   "outputs": [
    {
     "name": "stdout",
     "output_type": "stream",
     "text": [
      "Downloading http://yann.lecun.com/exdb/mnist/train-images-idx3-ubyte.gz\n",
      "Failed to download (trying next):\n",
      "HTTP Error 404: Not Found\n",
      "\n",
      "Downloading https://ossci-datasets.s3.amazonaws.com/mnist/train-images-idx3-ubyte.gz\n",
      "Downloading https://ossci-datasets.s3.amazonaws.com/mnist/train-images-idx3-ubyte.gz to ./data\\MNIST\\raw\\train-images-idx3-ubyte.gz\n"
     ]
    },
    {
     "name": "stderr",
     "output_type": "stream",
     "text": [
      "100.0%\n"
     ]
    },
    {
     "name": "stdout",
     "output_type": "stream",
     "text": [
      "Extracting ./data\\MNIST\\raw\\train-images-idx3-ubyte.gz to ./data\\MNIST\\raw\n",
      "\n",
      "Downloading http://yann.lecun.com/exdb/mnist/train-labels-idx1-ubyte.gz\n",
      "Failed to download (trying next):\n",
      "HTTP Error 404: Not Found\n",
      "\n",
      "Downloading https://ossci-datasets.s3.amazonaws.com/mnist/train-labels-idx1-ubyte.gz\n",
      "Downloading https://ossci-datasets.s3.amazonaws.com/mnist/train-labels-idx1-ubyte.gz to ./data\\MNIST\\raw\\train-labels-idx1-ubyte.gz\n"
     ]
    },
    {
     "name": "stderr",
     "output_type": "stream",
     "text": [
      "100.0%\n"
     ]
    },
    {
     "name": "stdout",
     "output_type": "stream",
     "text": [
      "Extracting ./data\\MNIST\\raw\\train-labels-idx1-ubyte.gz to ./data\\MNIST\\raw\n",
      "\n",
      "Downloading http://yann.lecun.com/exdb/mnist/t10k-images-idx3-ubyte.gz\n",
      "Failed to download (trying next):\n",
      "HTTP Error 404: Not Found\n",
      "\n",
      "Downloading https://ossci-datasets.s3.amazonaws.com/mnist/t10k-images-idx3-ubyte.gz\n",
      "Downloading https://ossci-datasets.s3.amazonaws.com/mnist/t10k-images-idx3-ubyte.gz to ./data\\MNIST\\raw\\t10k-images-idx3-ubyte.gz\n"
     ]
    },
    {
     "name": "stderr",
     "output_type": "stream",
     "text": [
      "100.0%\n"
     ]
    },
    {
     "name": "stdout",
     "output_type": "stream",
     "text": [
      "Extracting ./data\\MNIST\\raw\\t10k-images-idx3-ubyte.gz to ./data\\MNIST\\raw\n",
      "\n",
      "Downloading http://yann.lecun.com/exdb/mnist/t10k-labels-idx1-ubyte.gz\n",
      "Failed to download (trying next):\n",
      "HTTP Error 404: Not Found\n",
      "\n",
      "Downloading https://ossci-datasets.s3.amazonaws.com/mnist/t10k-labels-idx1-ubyte.gz\n",
      "Downloading https://ossci-datasets.s3.amazonaws.com/mnist/t10k-labels-idx1-ubyte.gz to ./data\\MNIST\\raw\\t10k-labels-idx1-ubyte.gz\n"
     ]
    },
    {
     "name": "stderr",
     "output_type": "stream",
     "text": [
      "100.0%\n"
     ]
    },
    {
     "name": "stdout",
     "output_type": "stream",
     "text": [
      "Extracting ./data\\MNIST\\raw\\t10k-labels-idx1-ubyte.gz to ./data\\MNIST\\raw\n",
      "\n",
      "Epoch [1/50] | D Loss: 0.0841 | G Loss: 4.7763\n",
      "Epoch [2/50] | D Loss: 0.0689 | G Loss: 5.2225\n",
      "Epoch [3/50] | D Loss: 0.0220 | G Loss: 7.4886\n",
      "Epoch [4/50] | D Loss: 0.0189 | G Loss: 5.4285\n",
      "Epoch [5/50] | D Loss: 0.0369 | G Loss: 6.1684\n",
      "Epoch [6/50] | D Loss: 0.1342 | G Loss: 4.8662\n",
      "Epoch [7/50] | D Loss: 0.0948 | G Loss: 6.7557\n",
      "Epoch [8/50] | D Loss: 0.0304 | G Loss: 6.3684\n",
      "Epoch [9/50] | D Loss: 0.1932 | G Loss: 5.0937\n",
      "Epoch [10/50] | D Loss: 0.1661 | G Loss: 5.6210\n",
      "Epoch [11/50] | D Loss: 0.1838 | G Loss: 3.4968\n",
      "Epoch [12/50] | D Loss: 0.3494 | G Loss: 3.5595\n",
      "Epoch [13/50] | D Loss: 0.0957 | G Loss: 3.7373\n",
      "Epoch [14/50] | D Loss: 0.1876 | G Loss: 3.4896\n",
      "Epoch [15/50] | D Loss: 0.1953 | G Loss: 2.4167\n",
      "Epoch [16/50] | D Loss: 0.1921 | G Loss: 4.1897\n",
      "Epoch [17/50] | D Loss: 0.0925 | G Loss: 4.1587\n",
      "Epoch [18/50] | D Loss: 0.3554 | G Loss: 3.3412\n",
      "Epoch [19/50] | D Loss: 0.1441 | G Loss: 3.8558\n",
      "Epoch [20/50] | D Loss: 0.1796 | G Loss: 3.6187\n",
      "Epoch [21/50] | D Loss: 0.1837 | G Loss: 3.2265\n",
      "Epoch [22/50] | D Loss: 0.4011 | G Loss: 2.6863\n",
      "Epoch [23/50] | D Loss: 0.1774 | G Loss: 3.8632\n",
      "Epoch [24/50] | D Loss: 0.2506 | G Loss: 3.6260\n",
      "Epoch [25/50] | D Loss: 0.3289 | G Loss: 3.4482\n",
      "Epoch [26/50] | D Loss: 0.3707 | G Loss: 1.8992\n",
      "Epoch [27/50] | D Loss: 0.3775 | G Loss: 3.0888\n",
      "Epoch [28/50] | D Loss: 0.2139 | G Loss: 2.3724\n",
      "Epoch [29/50] | D Loss: 0.2255 | G Loss: 2.7339\n",
      "Epoch [30/50] | D Loss: 0.4307 | G Loss: 1.9908\n",
      "Epoch [31/50] | D Loss: 0.3126 | G Loss: 2.9537\n",
      "Epoch [32/50] | D Loss: 0.3968 | G Loss: 2.2146\n",
      "Epoch [33/50] | D Loss: 0.4262 | G Loss: 3.0180\n",
      "Epoch [34/50] | D Loss: 0.3241 | G Loss: 1.8116\n",
      "Epoch [35/50] | D Loss: 0.3967 | G Loss: 2.4660\n",
      "Epoch [36/50] | D Loss: 0.4035 | G Loss: 1.9535\n",
      "Epoch [37/50] | D Loss: 0.2546 | G Loss: 2.6618\n",
      "Epoch [38/50] | D Loss: 0.2863 | G Loss: 1.7696\n",
      "Epoch [39/50] | D Loss: 0.4819 | G Loss: 2.1527\n",
      "Epoch [40/50] | D Loss: 0.5603 | G Loss: 1.6179\n",
      "Epoch [41/50] | D Loss: 0.4427 | G Loss: 1.4950\n",
      "Epoch [42/50] | D Loss: 0.4058 | G Loss: 2.1839\n",
      "Epoch [43/50] | D Loss: 0.3480 | G Loss: 2.0821\n",
      "Epoch [44/50] | D Loss: 0.3935 | G Loss: 1.7441\n",
      "Epoch [45/50] | D Loss: 0.3863 | G Loss: 2.5874\n",
      "Epoch [46/50] | D Loss: 0.4136 | G Loss: 2.0796\n",
      "Epoch [47/50] | D Loss: 0.5491 | G Loss: 1.4177\n",
      "Epoch [48/50] | D Loss: 0.4044 | G Loss: 2.1417\n",
      "Epoch [49/50] | D Loss: 0.4161 | G Loss: 1.9377\n",
      "Epoch [50/50] | D Loss: 0.5977 | G Loss: 1.3653\n"
     ]
    }
   ],
   "source": [
    "# Hyperparameters\n",
    "batch_size = 64\n",
    "lr = 0.0002\n",
    "epochs = 50\n",
    "noise_dim = 100\n",
    "num_classes = 10\n",
    "\n",
    "# Data\n",
    "transform = transforms.Compose([\n",
    "    transforms.ToTensor(),\n",
    "    transforms.Normalize([0.5], [0.5])\n",
    "])\n",
    "\n",
    "dataset = datasets.MNIST(root='./data', train=True, transform=transform, download=True)\n",
    "loader = DataLoader(dataset, batch_size=batch_size, shuffle=True)\n",
    "\n",
    "# Models\n",
    "generator = Generator(noise_dim, num_classes).to(device)\n",
    "discriminator = Discriminator(num_classes).to(device)\n",
    "\n",
    "# Optimizers\n",
    "optim_G = optim.Adam(generator.parameters(), lr=lr)\n",
    "optim_D = optim.Adam(discriminator.parameters(), lr=lr)\n",
    "\n",
    "# Loss\n",
    "adversarial_loss = nn.BCELoss()\n",
    "\n",
    "for epoch in range(epochs):\n",
    "    for imgs, labels in loader:\n",
    "        imgs, labels = imgs.to(device), labels.to(device)\n",
    "\n",
    "        # Train Discriminator\n",
    "        optim_D.zero_grad()\n",
    "        real_validity = discriminator(imgs, labels)\n",
    "        real_loss = adversarial_loss(real_validity, torch.ones_like(real_validity))\n",
    "        \n",
    "        noise = torch.randn(imgs.size(0), noise_dim, device=device)\n",
    "        gen_labels = torch.randint(0, num_classes, (imgs.size(0),), device=device)\n",
    "        fake_imgs = generator(noise, gen_labels)\n",
    "        \n",
    "        fake_validity = discriminator(fake_imgs.detach(), gen_labels)\n",
    "        fake_loss = adversarial_loss(fake_validity, torch.zeros_like(fake_validity))\n",
    "        \n",
    "        d_loss = (real_loss + fake_loss) / 2\n",
    "        d_loss.backward()\n",
    "        optim_D.step()\n",
    "        \n",
    "        # Train Generator\n",
    "        optim_G.zero_grad()\n",
    "        gen_validity = discriminator(fake_imgs, gen_labels)\n",
    "        g_loss = adversarial_loss(gen_validity, torch.ones_like(gen_validity))\n",
    "        g_loss.backward()\n",
    "        optim_G.step()\n",
    "\n",
    "    print(f\"Epoch [{epoch+1}/{epochs}] | D Loss: {d_loss:.4f} | G Loss: {g_loss:.4f}\")"
   ]
  },
  {
   "cell_type": "code",
   "execution_count": 5,
   "id": "d3581f60-b412-4c63-afb8-566761a44533",
   "metadata": {},
   "outputs": [
    {
     "name": "stdout",
     "output_type": "stream",
     "text": [
      "Saved Conditional MNIST Generator!\n"
     ]
    }
   ],
   "source": [
    "torch.save(generator.state_dict(), \"mnist_cgan_generator.pth\")\n",
    "print(\"Saved Conditional MNIST Generator!\")"
   ]
  },
  {
   "cell_type": "code",
   "execution_count": null,
   "id": "7876d295-99c0-47bb-ba00-afa3575e525f",
   "metadata": {},
   "outputs": [],
   "source": []
  }
 ],
 "metadata": {
  "kernelspec": {
   "display_name": "Python 3 (ipykernel)",
   "language": "python",
   "name": "python3"
  },
  "language_info": {
   "codemirror_mode": {
    "name": "ipython",
    "version": 3
   },
   "file_extension": ".py",
   "mimetype": "text/x-python",
   "name": "python",
   "nbconvert_exporter": "python",
   "pygments_lexer": "ipython3",
   "version": "3.12.6"
  }
 },
 "nbformat": 4,
 "nbformat_minor": 5
}
